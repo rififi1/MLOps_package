{
 "cells": [
  {
   "cell_type": "code",
   "execution_count": 57,
   "metadata": {},
   "outputs": [],
   "source": [
    "import pandas as pd\n",
    "from sklearn.linear_model import LogisticRegression\n",
    "from sklearn.svm import SVC"
   ]
  },
  {
   "cell_type": "code",
   "execution_count": 77,
   "metadata": {},
   "outputs": [],
   "source": [
    "def cleaning(df):\n",
    "    df = df.drop(['Name', 'Ticket', 'Cabin'], axis=1)\n",
    "    df = df.dropna(subset=['Embarked','Age'])\n",
    "\n",
    "    my_sex_dict = {\n",
    "    'male': 0,\n",
    "    'female': 1\n",
    "    }\n",
    "    df['Sex'] = df['Sex'].apply(lambda x: my_sex_dict[x])\n",
    "\n",
    "    my_embarked_dict = {\n",
    "    'S': 0,\n",
    "    'C': 1,\n",
    "    'Q': 2\n",
    "    }\n",
    "\n",
    "    df['Embarked'] = df['Embarked'].apply(lambda x: my_embarked_dict[x])\n",
    "\n",
    "    return df    "
   ]
  },
  {
   "cell_type": "code",
   "execution_count": 78,
   "metadata": {},
   "outputs": [],
   "source": [
    "def split_label_features(df):\n",
    "    train_labels = df_train['Survived']\n",
    "    train_features = df_train.drop(columns='Survived')\n",
    "    return train_features,train_labels"
   ]
  },
  {
   "cell_type": "code",
   "execution_count": 79,
   "metadata": {},
   "outputs": [],
   "source": [
    "df_train = pd.read_csv('train.csv')\n",
    "df_test = pd.read_csv('test.csv')\n",
    "\n",
    "df_train = cleaning(df_train)\n",
    "df_test = cleaning(df_test)"
   ]
  },
  {
   "cell_type": "code",
   "execution_count": 80,
   "metadata": {},
   "outputs": [],
   "source": [
    "train_features,train_labels = split_label_features(df_train)\n",
    "test_features,test_labels = split_label_features(df_train)"
   ]
  },
  {
   "cell_type": "code",
   "execution_count": 82,
   "metadata": {},
   "outputs": [
    {
     "data": {
      "text/plain": [
       "0.6573033707865169"
      ]
     },
     "execution_count": 82,
     "metadata": {},
     "output_type": "execute_result"
    }
   ],
   "source": [
    "model_1 = SVC()\n",
    "model_1.fit(train_features,train_labels)\n",
    "model_1.score(test_features,test_labels)"
   ]
  }
 ],
 "metadata": {
  "kernelspec": {
   "display_name": "python311",
   "language": "python",
   "name": "python3"
  },
  "language_info": {
   "codemirror_mode": {
    "name": "ipython",
    "version": 3
   },
   "file_extension": ".py",
   "mimetype": "text/x-python",
   "name": "python",
   "nbconvert_exporter": "python",
   "pygments_lexer": "ipython3",
   "version": "3.11.11"
  }
 },
 "nbformat": 4,
 "nbformat_minor": 2
}
