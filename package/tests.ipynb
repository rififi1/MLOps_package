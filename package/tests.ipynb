{
 "cells": [
  {
   "cell_type": "code",
   "execution_count": 1,
   "metadata": {},
   "outputs": [],
   "source": [
    "from scripts.data import Dataset\n",
    "from scripts.model import Model"
   ]
  },
  {
   "cell_type": "code",
   "execution_count": 2,
   "metadata": {},
   "outputs": [],
   "source": [
    "import os"
   ]
  },
  {
   "cell_type": "code",
   "execution_count": 3,
   "metadata": {},
   "outputs": [
    {
     "data": {
      "text/plain": [
       "'c:\\\\Users\\\\Henri Mayoud\\\\Documents\\\\études\\\\ESSEC-Centrale\\\\cours Y2\\\\T2\\\\MLOps\\\\lab1\\\\test_ml\\\\package'"
      ]
     },
     "execution_count": 3,
     "metadata": {},
     "output_type": "execute_result"
    }
   ],
   "source": [
    "root_path = os.getcwd()\n",
    "root_path"
   ]
  },
  {
   "cell_type": "code",
   "execution_count": 4,
   "metadata": {},
   "outputs": [],
   "source": [
    "path = \"data\"\n",
    "df_train = Dataset(os.path.join(path,'train.csv'))\n",
    "df_test = Dataset(os.path.join(path, 'test.csv'))\n",
    "\n",
    "df_train.clean()\n",
    "df_test.clean()\n",
    "\n",
    "train_features,train_labels = df_train.split_label_features() "
   ]
  },
  {
   "cell_type": "code",
   "execution_count": 5,
   "metadata": {},
   "outputs": [
    {
     "name": "stdout",
     "output_type": "stream",
     "text": [
      "model did fit, with accuracy  0.6769662921348315\n"
     ]
    }
   ],
   "source": [
    "model = Model()\n",
    "model.fit(train_features,train_labels, save_model=\"testing_\")\n",
    "model.set_accuracy(train_features,train_labels)\n",
    "print(\"model did fit, with accuracy \", model.get_accuracy())"
   ]
  },
  {
   "cell_type": "code",
   "execution_count": 7,
   "metadata": {},
   "outputs": [
    {
     "data": {
      "text/plain": [
       "0.6769662921348315"
      ]
     },
     "execution_count": 7,
     "metadata": {},
     "output_type": "execute_result"
    }
   ],
   "source": [
    "model_1 = Model(pickle_name='testing_')\n",
    "model_1.set_accuracy(train_features,train_labels)\n",
    "model_1.get_accuracy()\n",
    "\n",
    "#model_1.predict()"
   ]
  },
  {
   "cell_type": "code",
   "execution_count": 8,
   "metadata": {},
   "outputs": [
    {
     "name": "stdout",
     "output_type": "stream",
     "text": [
      "['models\\\\testing_.pkl']\n"
     ]
    }
   ],
   "source": [
    "import glob\n",
    "def list_pkl_files(directory):\n",
    "    # Construct the search pattern\n",
    "    search_pattern = os.path.join(directory, '*.pkl')\n",
    "\n",
    "    # Use glob to find all .pkl files\n",
    "    pkl_files = glob.glob(search_pattern)\n",
    "\n",
    "    return pkl_files\n",
    "\n",
    "# Example usage\n",
    "directory_path = 'models'\n",
    "pkl_files = list_pkl_files(directory_path)\n",
    "print(pkl_files)"
   ]
  },
  {
   "cell_type": "code",
   "execution_count": null,
   "metadata": {},
   "outputs": [],
   "source": []
  }
 ],
 "metadata": {
  "kernelspec": {
   "display_name": "python311",
   "language": "python",
   "name": "python3"
  },
  "language_info": {
   "codemirror_mode": {
    "name": "ipython",
    "version": 3
   },
   "file_extension": ".py",
   "mimetype": "text/x-python",
   "name": "python",
   "nbconvert_exporter": "python",
   "pygments_lexer": "ipython3",
   "version": "3.11.11"
  }
 },
 "nbformat": 4,
 "nbformat_minor": 2
}
